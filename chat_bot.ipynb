{
  "nbformat": 4,
  "nbformat_minor": 0,
  "metadata": {
    "colab": {
      "provenance": [],
      "authorship_tag": "ABX9TyODx3/3CGdnYWMOaDdd8keH",
      "include_colab_link": true
    },
    "kernelspec": {
      "name": "python3",
      "display_name": "Python 3"
    },
    "language_info": {
      "name": "python"
    }
  },
  "cells": [
    {
      "cell_type": "markdown",
      "metadata": {
        "id": "view-in-github",
        "colab_type": "text"
      },
      "source": [
        "<a href=\"https://colab.research.google.com/github/roberth1silva/alura-imersao-ai/blob/main/chat_bot.ipynb\" target=\"_parent\"><img src=\"https://colab.research.google.com/assets/colab-badge.svg\" alt=\"Open In Colab\"/></a>"
      ]
    },
    {
      "cell_type": "code",
      "execution_count": null,
      "metadata": {
        "collapsed": true,
        "id": "KRF5dyAAFPvk"
      },
      "outputs": [],
      "source": [
        "!pip install google-genai"
      ]
    },
    {
      "cell_type": "code",
      "source": [
        "import os\n",
        "from google.colab import userdata\n",
        "from google import genai\n",
        "from google.genai import types\n",
        "\n",
        "os.environ['GOOGLE_API_KEY'] = userdata.get('GOOGLE_API_KEY')\n",
        "\n",
        "client = genai.Client()\n",
        "\n",
        "model_name = \"models/gemini-2.0-flash\"\n",
        "chat_config = types.GenerateContentConfig(\n",
        "    system_instruction=\"Vocé é um assistente pessoal e você sempre responde de forma clara.\",\n",
        ")\n",
        "\n",
        "chat = client.chats.create(model=model_name, config=chat_config)\n",
        "prompt = input(\"Digite algo:\")\n",
        "\n",
        "while prompt != \"fim\":\n",
        "  response = chat.send_message(prompt)\n",
        "  print(\"Resposta: \", response.text)\n",
        "  print(\"\\n\\n\")\n",
        "  prompt = input(\"Digite algo:\")"
      ],
      "metadata": {
        "collapsed": true,
        "id": "Hwa17eKqFyVc"
      },
      "execution_count": null,
      "outputs": []
    }
  ]
}