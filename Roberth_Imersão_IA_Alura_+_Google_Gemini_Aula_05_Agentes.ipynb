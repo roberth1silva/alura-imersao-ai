{
  "nbformat": 4,
  "nbformat_minor": 0,
  "metadata": {
    "colab": {
      "provenance": [],
      "include_colab_link": true
    },
    "kernelspec": {
      "name": "python3",
      "display_name": "Python 3"
    },
    "language_info": {
      "name": "python"
    }
  },
  "cells": [
    {
      "cell_type": "markdown",
      "metadata": {
        "id": "view-in-github",
        "colab_type": "text"
      },
      "source": [
        "<a href=\"https://colab.research.google.com/github/roberth1silva/alura-imersao-ai/blob/main/Roberth_Imers%C3%A3o_IA_Alura_%2B_Google_Gemini_Aula_05_Agentes.ipynb\" target=\"_parent\"><img src=\"https://colab.research.google.com/assets/colab-badge.svg\" alt=\"Open In Colab\"/></a>"
      ]
    },
    {
      "cell_type": "code",
      "source": [
        "%pip -q install google-genai"
      ],
      "metadata": {
        "id": "UCCbECexLk_h"
      },
      "execution_count": 1,
      "outputs": []
    },
    {
      "cell_type": "code",
      "source": [
        "# Instalar Framework ADK de agentes do Google ################################################\n",
        "%pip install -q google-adk"
      ],
      "metadata": {
        "id": "hvZ3UnPI4jhJ"
      },
      "execution_count": null,
      "outputs": []
    },
    {
      "cell_type": "code",
      "source": [
        "# Configura a API Key do Google Gemini\n",
        "\n",
        "import os\n",
        "from google.colab import userdata\n",
        "os.environ[\"GOOGLE_API_KEY\"] = userdata.get(\"GOOGLE_API_KEY\")\n",
        "\n",
        "# Configura o cliente da SDK do Gemini\n",
        "\n",
        "from google import genai\n",
        "client = genai.Client()\n",
        "MODEL_ID = \"gemini-2.0-flash\"\n",
        "\n",
        "# Import Utilidades do ADK\n",
        "from google.adk.agents import Agent\n",
        "from google.adk.runners import Runner\n",
        "from google.adk.sessions import InMemorySessionService\n",
        "from google.adk.tools import google_search\n",
        "from google.genai import types  # Para criar conteúdos (Content e Part)\n",
        "from datetime import date\n",
        "import textwrap # Para formatar melhor a saída de texto\n",
        "from IPython.display import display, Markdown # Para exibir texto formatado no Colab\n",
        "import requests # Para fazer requisições HTTP\n",
        "import warnings\n",
        "\n",
        "warnings.filterwarnings(\"ignore\")\n",
        "\n",
        "# Função auxiliar que envia uma mensagem para um agente via Runner e retorna a resposta final\n",
        "def call_agent(agent: Agent, message_text: str) -> str:\n",
        "    # Cria um serviço de sessão em memória\n",
        "    session_service = InMemorySessionService()\n",
        "    # Cria uma nova sessão (você pode personalizar os IDs conforme necessário)\n",
        "    session = session_service.create_session(app_name=agent.name, user_id=\"user1\", session_id=\"session1\")\n",
        "    # Cria um Runner para o agente\n",
        "    runner = Runner(agent=agent, app_name=agent.name, session_service=session_service)\n",
        "    # Cria o conteúdo da mensagem de entrada\n",
        "    content = types.Content(role=\"user\", parts=[types.Part(text=message_text)])\n",
        "\n",
        "    final_response = \"\"\n",
        "    # Itera assincronamente pelos eventos retornados durante a execução do agente\n",
        "    for event in runner.run(user_id=\"user1\", session_id=\"session1\", new_message=content):\n",
        "        if event.is_final_response():\n",
        "          for part in event.content.parts:\n",
        "            if part.text is not None:\n",
        "              final_response += part.text\n",
        "              final_response += \"\\n\"\n",
        "    return final_response\n",
        "\n",
        "# Função auxiliar para exibir texto formatado em Markdown no Colab\n",
        "def to_markdown(text):\n",
        "  text = text.replace('•', '  *')\n",
        "  return Markdown(textwrap.indent(text, '> ', predicate=lambda _: True))\n",
        "\n",
        "##########################################\n",
        "# --- Agente 1: Buscador de Notícias --- #\n",
        "##########################################\n",
        "def agente_buscador(topico, data_de_hoje):\n",
        "  buscador = Agent(\n",
        "      name=\"agente_buscador\",\n",
        "      model=MODEL_ID,\n",
        "      description=\"Agente que busca informações no google\",\n",
        "      tools=[google_search],\n",
        "      instruction=\"\"\"\n",
        "      Você é uma assitente de pesquisa. A sua tarefa é usar a ferramenta de busca do google (google_search)\n",
        "      para recuperar as últimas notícias de lançamentos muito relevantes sobre o tópico abaixo.\n",
        "      Foque em no máximo 5 lançamento relevantes, com base na quantidade e entusiasmo das notícias sobre ele.\n",
        "      Se um tema tiver poucas notícias ou reações entusiasmadas, é possivel que ele não seja tão relevante assim\n",
        "      e pode ser substituído por outro que tenha mais.\n",
        "      Esse lançamentos relevantes devem ser atuais, de no máximo um mês antes da data de hoje.\n",
        "      \"\"\"\n",
        "  )\n",
        "\n",
        "  entrada_do_agente_buscador = f\"Tópico: {topico}\\nData de hoje: {data_de_hoje}\"\n",
        "\n",
        "  lancamentos = call_agent(buscador, entrada_do_agente_buscador)\n",
        "  return lancamentos\n",
        "\n",
        "################################################\n",
        "# --- Agente 2: Planejador de posts --- #\n",
        "################################################\n",
        "def agente_planejador(topico, lancamentos_buscados):\n",
        "    planejador = Agent(\n",
        "        name=\"agente_planejador\",\n",
        "        model=MODEL_ID,\n",
        "        description=\"Agente que planeja posts\",\n",
        "        tools=[google_search],\n",
        "        # Inserir as instruções do Agente Planejador #################################################\n",
        "        instruction=\"\"\"\n",
        "        Você é uma planejador de contéudo, especialista em redes sociais. Com base na lista ]\n",
        "        de lançamentos mais recente e relevantes buscador, você deve:\n",
        "        usar a ferramenta de busca do Google (google_search) para criar um plano sobre\n",
        "        quais são os pontos mais relevantes que poderíamos abordar em um post sobre\n",
        "        cada um deles. Você também pode usar o (google_search) para encontrar mais informações\n",
        "        sobre os temas e aprofundar.\n",
        "        Ao final, você irá escolher o tema mais relevantes entre eles com base nas suas pesquisas\n",
        "        e retornar esse tema, seus pontos mais relevantes, e um plano com os assuntos a serem\n",
        "        abordados no post que será escrito posteriormente.\n",
        "        \"\"\"\n",
        "    )\n",
        "\n",
        "    entrada_do_agente_planejador = f\"Tópico:{topico}\\nLançamentos buscados: {lancamentos_buscados}\"\n",
        "    # Executa o agente\n",
        "    plano_do_post = call_agent(planejador, entrada_do_agente_planejador)\n",
        "    return plano_do_post\n",
        "\n",
        "######################################\n",
        "# --- Agente 3: Redator do Post --- #\n",
        "######################################\n",
        "def agente_redator(topico, plano_de_post):\n",
        "    redator = Agent(\n",
        "        name=\"agente_redator\",\n",
        "        model=MODEL_ID,\n",
        "        description=\"Agente redator de posts engajadores para Instagram\",\n",
        "        instruction=\"\"\"\n",
        "            Você é um Redator Criativo especializado em criar posts virais para redes sociais.\n",
        "            Você escreve posts para a empresa Alura, a maior escola online de tecnologia do Brasil.\n",
        "            Utilize o tema fornecido no plano de post e os pontos mais relevantes fornecidos e, com base nisso,\n",
        "            escreva um rascunho de post para Instagram sobre o tema indicado.\n",
        "            O post deve ser engajador, informativo, com linguagem simples e incluir 2 a 4 hashtags no final.\n",
        "            \"\"\"\n",
        "    )\n",
        "    entrada_do_agente_redator = f\"Tópico: {topico}\\nPlano de post: {plano_de_post}\"\n",
        "    # Executa o agente\n",
        "    rascunho = call_agent(redator, entrada_do_agente_redator)\n",
        "    return rascunho\n",
        "\n",
        "##########################################\n",
        "# --- Agente 4: Revisor de Qualidade --- #\n",
        "##########################################\n",
        "def agente_revisor(topico, rascunho_gerado):\n",
        "    revisor = Agent(\n",
        "        name=\"agente_revisor\",\n",
        "        model=MODEL_ID,\n",
        "        description=\"Agente revisor de post para redes sociais.\",\n",
        "        instruction=\"\"\"\n",
        "            Você é um Editor e Revisor de Conteúdo meticuloso, especializado em posts para redes sociais, com foco no Instagram.\n",
        "            Por ter um público jovem, entre 18 e 30 anos, use um tom de escrita adequado.\n",
        "            Revise o rascunho de post de Instagram abaixo sobre o tópico indicado, verificando clareza, concisão, correção e tom.\n",
        "            Se o rascunho estiver bom, responda apenas 'O rascunho está ótimo e pronto para publicar!'.\n",
        "            Caso haja problemas, aponte-os e sugira melhorias.\n",
        "            \"\"\"\n",
        "    )\n",
        "    entrada_do_agente_revisor = f\"Tópico: {topico}\\nRascunho: {rascunho_gerado}\"\n",
        "    # Executa o agente\n",
        "    texto_revisado = call_agent(revisor, entrada_do_agente_revisor)\n",
        "    return texto_revisado\n",
        "\n",
        "data_de_hoje = date.today().strftime(\"%d/%m/%Y\")\n",
        "\n",
        "print(\"🚀 Iniciando o Sistema de Criação de Posts para Instagram com 4 Agentes 🚀\")\n",
        "\n",
        "# --- Obter o Tópico do Usuário ---\n",
        "topico = input(\"❓ Por favor, digite o TÓPICO sobre o qual você quer criar o post de tendências: \")\n",
        "\n",
        "# Inserir lógica do sistema de agentes ################################################\n",
        "if not topico:\n",
        "  print(\"Você esqueceu de digitar o tópico!\")\n",
        "else:\n",
        "  print(f\"Maravilha! vamos então criar o post sobre novidades em {topico}\")\n",
        "\n",
        "  lancamentos = agente_buscador(topico, data_de_hoje)\n",
        "  print(\"\\n--- 📝 Resultado do Agente 1 (Buscador) ---\\n\")\n",
        "  display(to_markdown(lancamentos))\n",
        "  print(\"--------------------------------------------------------------\")\n",
        "\n",
        "  planejamento = agente_planejador(topico, lancamentos)\n",
        "  print(\"\\n--- 📝 Resultado do Agente 2 (Planejador) ---\\n\")\n",
        "  display(to_markdown(planejamento))\n",
        "  print(\"--------------------------------------------------------------\")\n",
        "\n",
        "  rascunho = agente_redator(topico, planejamento)\n",
        "  print(\"\\n--- 📝 Resultado do Agente 3 (Redator) ---\\n\")\n",
        "  display(to_markdown(rascunho))\n",
        "  print(\"--------------------------------------------------------------\")\n",
        "\n",
        "  revisado = agente_revisor(topico, rascunho)\n",
        "  print(\"\\n--- 📝 Resultado do Agente 4 (Revisor) ---\\n\")\n",
        "  display(to_markdown(revisado))\n",
        "  print(\"--------------------------------------------------------------\")"
      ],
      "metadata": {
        "id": "NfCqHo1tLk8P",
        "colab": {
          "base_uri": "https://localhost:8080/",
          "height": 1000
        },
        "outputId": "fc1b61a1-7f7f-40b6-bbf3-1f0fabaf6a6b"
      },
      "execution_count": 15,
      "outputs": [
        {
          "output_type": "stream",
          "name": "stdout",
          "text": [
            "🚀 Iniciando o Sistema de Criação de Posts para Instagram com 4 Agentes 🚀\n",
            "❓ Por favor, digite o TÓPICO sobre o qual você quer criar o post de tendências: Uso de celular por jovens\n",
            "Maravilha! vamos então criar o post sobre novidades em Uso de celular por jovens\n",
            "\n",
            "--- 📝 Resultado do Agente 1 (Buscador) ---\n",
            "\n"
          ]
        },
        {
          "output_type": "display_data",
          "data": {
            "text/plain": [
              "<IPython.core.display.Markdown object>"
            ],
            "text/markdown": "> Para fornecer as informações mais atuais e relevantes sobre o uso de celulares por jovens, farei algumas buscas no Google para identificar lançamentos, estudos ou tendências recentes que estejam gerando notícias e discussões.\n> \n> \n> Com base nas notícias e pesquisas mais recentes, aqui estão 5 lançamentos/tópicos relevantes sobre o uso de celular por jovens, com foco nos últimos meses:\n> \n> 1.  **Lei nº 15.100/2025 e restrição do uso de celulares nas escolas:** Aprovada em janeiro de 2025, essa lei restringe o uso de celulares nas escolas brasileiras, visando melhorar a concentração e a saúde mental dos alunos. As escolas estão definindo suas próprias estratégias de implementação, com apoio do Ministério da Educação (MEC) [1, 3, 5, 11, 12, 15, 21, 23, 24]. No entanto, um estudo da Universidade de Birmingham publicado em fevereiro de 2025 aponta que a proibição do uso de celulares nas escolas não melhora o bem-estar mental dos adolescentes, nem o desempenho acadêmico [16].\n> 2.  **Impacto do uso excessivo de celulares na saúde mental:** Estudos recentes mostram que o uso excessivo de celulares está associado a ansiedade, depressão, insônia e até pensamentos suicidas em jovens [2, 4, 5, 6, 8, 18, 21, 24]. Uma pesquisa do Instituto Papo de Homem (PDH) revelou que 44% dos jovens admitem ser viciados em seus dispositivos móveis [4, 8]. A Organização Mundial da Saúde (OMS) indica que o transtorno de ansiedade afeta mais de 300 milhões de pessoas no mundo, com um crescimento alarmante entre adolescentes e jovens adultos [18].\n> 3.  **Novos recursos em aplicativos para promover o bem-estar digital:** Plataformas como o TikTok lançaram novos recursos para ajudar os jovens a reduzir o tempo de tela e promover o bem-estar digital, como sons relaxantes para a hora de dormir e ferramentas de controle parental [13].\n> 4.  **Aplicativos de controle parental:** Há uma variedade de aplicativos disponíveis para ajudar os pais a monitorar e controlar o uso de celulares por seus filhos, como Google Family Link, AppBlock, Controle Parental Screen Time, Life360, GPS Rastreador de Família KidsControl, mSpy, Qustodio e AirDroid Parental Control [9, 17, 19, 20].\n> 5.  **Tendências para o público infantojuvenil em 2025:** Uma tendência crescente é a busca por plataformas que ofereçam experiências mais seguras e enriquecedoras, com 86% dos jovens buscando reduzir o tempo de tela. A Geração Alfa está adotando hábitos digitais mais conscientes e valorizando espaços como o YouTube e o Roblox [7].\n> \n"
          },
          "metadata": {}
        },
        {
          "output_type": "stream",
          "name": "stdout",
          "text": [
            "--------------------------------------------------------------\n",
            "\n",
            "--- 📝 Resultado do Agente 2 (Planejador) ---\n",
            "\n"
          ]
        },
        {
          "output_type": "display_data",
          "data": {
            "text/plain": [
              "<IPython.core.display.Markdown object>"
            ],
            "text/markdown": "> Ok, com base nos lançamentos e tópicos que você me forneceu, vou criar um plano de conteúdo para cada um deles e, em seguida, escolher o tema mais relevante para um post detalhado.\n> \n> **1. Lei nº 15.100/2025 e restrição do uso de celulares nas escolas:**\n> \n> *   **Pontos Relevantes:**\n>     *   A lei em si e seus objetivos (melhorar concentração e saúde mental).\n>     *   Como as escolas estão implementando a lei (estratégias e apoio do MEC).\n>     *   O estudo da Universidade de Birmingham que questiona a eficácia da proibição.\n> *   **Plano de Conteúdo:**\n>     *   Introdução: Explicar a lei e o contexto.\n>     *   Prós e Contras: Apresentar os argumentos a favor da restrição (concentração, saúde mental) e o estudo que a questiona (Universidade de Birmingham).\n>     *   Implementação: Como as escolas estão lidando com a lei na prática.\n>     *   Discussão: Abrir para debate - a proibição é a melhor solução?\n>     *   Enquete: O que os jovens acham da lei?\n> \n> **2. Impacto do uso excessivo de celulares na saúde mental:**\n> \n> *   **Pontos Relevantes:**\n>     *   Associação entre uso excessivo e problemas como ansiedade, depressão, insônia.\n>     *   Dados da pesquisa do Instituto Papo de Homem (44% dos jovens se consideram viciados).\n>     *   Estatísticas da OMS sobre transtornos de ansiedade em jovens.\n> *   **Plano de Conteúdo:**\n>     *   Alerta: O impacto negativo do uso excessivo de celulares na saúde mental dos jovens.\n>     *   Dados: Apresentar as estatísticas (PDH, OMS).\n>     *   Sintomas: Quais são os sinais de que o uso do celular está afetando a saúde mental?\n>     *   Dicas: Estratégias para reduzir o tempo de tela e promover o bem-estar.\n>     *   Recursos: Indicar links para ajuda profissional e informações adicionais.\n> \n> **3. Novos recursos em aplicativos para promover o bem-estar digital:**\n> \n> *   **Pontos Relevantes:**\n>     *   Exemplos de recursos (sons relaxantes do TikTok, ferramentas de controle parental).\n>     *   O objetivo desses recursos (reduzir o tempo de tela e promover o bem-estar).\n> *   **Plano de Conteúdo:**\n>     *   Novidades: Apresentar os novos recursos de bem-estar digital em aplicativos populares.\n>     *   Exemplos: Mostrar como esses recursos funcionam (screenshots, vídeos curtos).\n>     *   Opinião: Avaliar a eficácia desses recursos.\n>     *   Convite: Incentivar os jovens a experimentar e compartilhar suas experiências.\n> \n> **4. Aplicativos de controle parental:**\n> \n> *   **Pontos Relevantes:**\n>     *   A variedade de aplicativos disponíveis (Google Family Link, Qustodio, etc.).\n>     *   As funcionalidades desses aplicativos (monitoramento, controle de tempo, etc.).\n> *   **Plano de Conteúdo:**\n>     *   Lista: Apresentar os principais aplicativos de controle parental.\n>     *   Funcionalidades: Descrever o que cada aplicativo oferece.\n>     *   Prós e Contras: Discutir as vantagens e desvantagens do uso desses aplicativos.\n>     *   Ética: Levantar questões sobre privacidade e autonomia dos jovens.\n>     *   Enquete: Qual a opinião dos jovens sobre o uso de aplicativos de controle parental?\n> \n> **5. Tendências para o público infantojuvenil em 2025:**\n> \n> *   **Pontos Relevantes:**\n>     *   A busca por plataformas mais seguras e enriquecedoras.\n>     *   A intenção dos jovens de reduzir o tempo de tela (86%).\n>     *   A valorização de espaços como YouTube e Roblox.\n> *   **Plano de Conteúdo:**\n>     *   Tendências: Apresentar as principais tendências de uso de tecnologia entre jovens.\n>     *   Geração Alfa: Descrever os hábitos digitais dessa geração.\n>     *   Plataformas: Discutir o que torna YouTube e Roblox tão populares entre os jovens.\n>     *   Previsões: O que esperar do futuro do uso de tecnologia por jovens?\n> \n> **Escolha do Tema Mais Relevante e Plano Detalhado:**\n> \n> Considerando a relevância para a saúde mental dos jovens e o potencial para gerar discussões construtivas, escolho o tema **\"Impacto do uso excessivo de celulares na saúde mental\"**.\n> \n> **Plano Detalhado:**\n> \n> *   **Título:** O Preço da Conectividade: Como o Celular Afeta a Saúde Mental dos Jovens\n> *   **Introdução (1 parágrafo):**\n>     *   Começar com uma estatística impactante (ex: 44% dos jovens se consideram viciados em celular).\n>     *   Afirmar que o uso excessivo de celulares está ligado a problemas de saúde mental.\n>     *   Indicar que o post irá explorar essa relação e oferecer dicas para um uso mais saudável.\n> *   **O Que Dizem os Números (2-3 parágrafos):**\n>     *   Apresentar os dados da pesquisa do Instituto Papo de Homem sobre vício em celulares.\n>     *   Citar as estatísticas da OMS sobre o aumento de transtornos de ansiedade entre jovens.\n>     *   Mencionar outros estudos que relacionam o uso excessivo de celulares com depressão, insônia e pensamentos suicidas.\n> *   **Sinais de Alerta (3-4 parágrafos):**\n>     *   Quais são os sinais de que o uso do celular está afetando a saúde mental?\n>         *   Isolamento social: Preferir ficar online a interagir com amigos e família.\n>         *   Ansiedade: Sentir-se ansioso quando está longe do celular.\n>         *   Insônia: Dificuldade para dormir devido ao uso do celular antes de dormir.\n>         *   Irritabilidade: Ficar irritado ou frustrado quando é interrompido durante o uso do celular.\n>         *   Queda no desempenho escolar: Dificuldade para se concentrar nos estudos.\n> *   **Dicas para um Uso Mais Saudável (4-5 parágrafos):**\n>     *   Definir limites de tempo de tela: Usar aplicativos para monitorar e controlar o tempo gasto no celular.\n>     *   Criar horários \"livres de tecnologia\": Desligar o celular durante as refeições, antes de dormir e em momentos de lazer.\n>     *   Encontrar atividades alternativas: Praticar esportes, hobbies, passar tempo com amigos e família.\n>     *   Cuidar do sono: Evitar o uso do celular pelo menos uma hora antes de dormir.\n>     *   Buscar ajuda profissional: Se sentir que o uso do celular está afetando sua saúde mental, procurar um psicólogo ou terapeuta.\n> *   **Conclusão (1-2 parágrafos):**\n>     *   Reafirmar a importância de um uso consciente e equilibrado do celular.\n>     *   Incentivar os jovens a priorizar sua saúde mental e bem-estar.\n>     *   Abrir para discussão: Qual a sua experiência com o uso do celular e a saúde mental? Deixe seu comentário!\n> *   **Recursos Adicionais:**\n>     *   Links para sites com informações sobre saúde mental (ex: CVV, OMS).\n>     *   Indicação de aplicativos para controle de tempo de tela e bem-estar digital.\n> *   **Call to Action:**\n>     *   Compartilhe este post com seus amigos!\n>     *   Siga nossa página para mais dicas sobre saúde mental e bem-estar.\n> \n> Este plano detalhado fornece uma estrutura para um post informativo e envolvente sobre o impacto do uso de celulares na saúde mental dos jovens. Ele combina dados, dicas práticas e um convite à discussão, o que pode gerar um bom engajamento nas redes sociais. Antes de escrever o post final, seria útil pesquisar mais a fundo sobre os recursos adicionais (sites, aplicativos) para fornecer indicações mais precisas e relevantes para o público.\n> \n"
          },
          "metadata": {}
        },
        {
          "output_type": "stream",
          "name": "stdout",
          "text": [
            "--------------------------------------------------------------\n",
            "\n",
            "--- 📝 Resultado do Agente 3 (Redator) ---\n",
            "\n"
          ]
        },
        {
          "output_type": "display_data",
          "data": {
            "text/plain": [
              "<IPython.core.display.Markdown object>"
            ],
            "text/markdown": "> 🚨 Sinal de alerta: será que o celular está te dominando? 📱🤔\n> \n> 44% dos jovens se sentem viciados em celular! 🤯 A gente sabe que é difícil largar, mas o uso excessivo pode estar afetando sua saúde mental. 🧠💔\n> \n> A ansiedade tem te pegado? 😥 Insônia? 😴 Irritabilidade? 😤 Fique ligado! 👀 Esses podem ser sinais de que você precisa dar um tempo do mundo digital.\n> \n> 💡 Mas calma, a Alura te dá um help! 😉\n> \n> ✅ Defina limites de tempo de tela\n> 📵 Crie horários \"detox\"\n> ⚽ Encontre atividades offline\n> 😴 Cuide do seu sono (longe do celular!)\n> 🗣️ Se precisar, busque ajuda!\n> \n> Lembre-se: sua saúde mental é prioridade! 💚\n> \n> 💬 Conta pra gente: como você lida com o uso do celular?\n> \n> #SaúdeMental #BemEstarDigital #Alura #TechComPropósito\n> \n"
          },
          "metadata": {}
        },
        {
          "output_type": "stream",
          "name": "stdout",
          "text": [
            "--------------------------------------------------------------\n",
            "\n",
            "--- 📝 Resultado do Agente 4 (Revisor) ---\n",
            "\n"
          ]
        },
        {
          "output_type": "display_data",
          "data": {
            "text/plain": [
              "<IPython.core.display.Markdown object>"
            ],
            "text/markdown": "> O rascunho está bom, mas podemos deixá-lo ainda mais interessante e engajador para o público jovem do Instagram. Aqui estão algumas sugestões:\n> \n> *   **Emojis:** Usar mais emojis (sem exagerar) pode deixar o post mais divertido e chamativo.\n> *   **Chamada para ação:** A pergunta no final (\"Conta pra gente: como você lida com o uso do celular?\") é boa, mas podemos torná-la mais direta e convidativa.\n> *   **Hashtags:** Adicionar algumas hashtags mais específicas pode aumentar o alcance do post.\n> \n> **Sugestão de rascunho revisado:**\n> \n> 🚨 E aí, addicted em celular? 📱🤔\n> \n> Parada obrigatória: 44% da galera se sente viciada no celular! 🤯 A gente sabe que é hard resistir, mas será que o uso excessivo não tá te sabotando? 🧠💔\n> \n> Se liga nos sinais:\n> \n> *   Crises de ansiedade? 😥\n> *   Noites em claro? 😴\n> *   Pavio curto? 😤\n> \n> Pode ser a hora de dar um tempo do digital! ⏰\n> \n> 💡 A Alura te dá o mapa da mina: 😉\n> \n> ✅ Metas de tempo de tela\n> 📵 Horários de #DetoxDigital\n> ⚽ Mais rolê offline, menos online\n> 😴 Celular? Só pra despertar!\n> 🗣️ Deu ruim? #TerapiaFazBem\n> \n> Sua saúde mental é TUDO! 💚\n> \n> 💬 E aí, qual sua tática pra equilibrar o online e o offline? 👇 Manda a brasa nos comentários!\n> \n> \\#SaúdeMental \\#BemEstarDigital \\#Alura \\#TechComPropósito \\#VicioEmCelular \\#EquilibrioDigital \\#OfflineÉONovoONline\n> \n"
          },
          "metadata": {}
        },
        {
          "output_type": "stream",
          "name": "stdout",
          "text": [
            "--------------------------------------------------------------\n"
          ]
        }
      ]
    }
  ]
}